{
 "cells": [
  {
   "cell_type": "raw",
   "id": "af088a0d-0c38-46d6-9236-de236ff3996b",
   "metadata": {},
   "source": [
    "#Q1. Which keyword is used to create a function? Create a function to return a list of odd numbers in the\n",
    "#range of 1 to 25.\n",
    "#ans : we are use def keyword to create a fun\n",
    "def get_odd_numbers():\n",
    "    odd_numbers = [num for num in range(1, 26) if num % 2 != 0]\n",
    "    return odd_numbers\n",
    "\n",
    "# Call the function and store the result in a variable\n",
    "result = get_odd_numbers()\n",
    "\n",
    "# Print the list of odd numbers\n",
    "print(result)\n"
   ]
  },
  {
   "cell_type": "raw",
   "id": "da8be173-53f7-4a91-a12e-efac2647513a",
   "metadata": {},
   "source": [
    "Q2 . Q2. Why *args and **kwargs is used in some functions? Create a function each for *args and **kwargs\n",
    "to demonstrate their use.\n",
    "ans: \n",
    "*args allows you to pass a variable number of positional arguments to a function, while **kwargs allows you to pass a variable number of keyword arguments (i.e., arguments with names) to a function.\n",
    "\n",
    "Function using *args:\n",
    "ex: def sum_args(*args):\n",
    "    total = 0\n",
    "    for num in args:\n",
    "        total += num\n",
    "    return total\n",
    "\n",
    "# Example usage\n",
    "result = sum_args(1, 2, 3, 4, 5)\n",
    "print(result)  # Output: 15\n",
    "Function using **kwargs:\n",
    "def print_kwargs(**kwargs):\n",
    "    for key, value in kwargs.items():\n",
    "        print(f\"{key}: {value}\")\n",
    "\n",
    "# Example usage\n",
    "print_kwargs(name=\"John\", age=30, occupation=\"Engineer\")\n",
    "\n"
   ]
  },
  {
   "cell_type": "raw",
   "id": "743f5cbd-56d6-4b8c-938f-a573acd182cb",
   "metadata": {},
   "source": [
    "Q3. What is an iterator in python? Name the method used to initialise the iterator object and the method\n",
    "used for iteration. Use these methods to print the first five elements of the given list [2, 4, 6, 8, 10, 12, 14,\n",
    "16, 18, 20].\n",
    "ans: In Python, an iterator is an object that allows you to traverse through a sequence of elements one by one without having to know the underlying structure of the data. Iterators are used to implement iteration in Python, which is the process of accessing elements sequentially from a collection or container.\n",
    "\n",
    "To create an iterator object, you can use the iter() method, and to iterate through the elements, you can use the next() method.\n",
    "\n",
    "Let's demonstrate this by printing the first five elements of the given list [2, 4, 6, 8, 10, 12, 14, 16, 18, 20] using an iterator:\n",
    "\n",
    "python\n",
    "Copy code\n",
    "# Create the iterator object\n",
    "my_list = [2, 4, 6, 8, 10, 12, 14, 16, 18, 20]\n",
    "my_iterator = iter(my_list)\n",
    "\n",
    "# Iterate and print the first five elements\n",
    "for _ in range(5):\n",
    "    element = next(my_iterator)\n",
    "    print(element)"
   ]
  },
  {
   "cell_type": "raw",
   "id": "b9edd4ce-0577-477d-b38c-64857c868a6e",
   "metadata": {},
   "source": [
    "Q4. What is a generator function in python? Why yield keyword is used? Give an example of a generator\n",
    "function.\n",
    "ans:\n",
    "A generator function in Python is a special type of function that uses the yield keyword instead of the regular return statement to produce a sequence of values, one at a time. When you call a generator function, it doesn't execute the entire function at once. Instead, it returns a generator object that can be iterated over to retrieve the generated values on-the-fly. This is useful for generating large sequences of data without consuming a lot of memory.\n",
    "\n",
    "The yield keyword is used in a generator function to pause the function's execution and produce a value, which is then returned to the caller. When the generator is iterated over or when the next() function is called on the generator object, the function resumes execution from where it left off and continues until the next yield statement is encountered.\n",
    "ex: def fibonacci_generator(limit):\n",
    "    a, b = 0, 1\n",
    "    while a <= limit:\n",
    "        yield a\n",
    "        a, b = b, a + b\n",
    "\n",
    "# Example usage\n",
    "fib_gen = fibonacci_generator(50)\n",
    "\n",
    "# Iterate and print the Fibonacci numbers up to 50\n",
    "for num in fib_gen:\n",
    "    print(num)\n"
   ]
  },
  {
   "cell_type": "raw",
   "id": "e99a330a-389c-4e72-b6a3-d8eab98446da",
   "metadata": {},
   "source": [
    "\n",
    "Q5. Create a generator function for prime numbers less than 1000. Use the next() method to print the\n",
    "first 20 prime numbers.\n",
    "ans:\n"
   ]
  },
  {
   "cell_type": "raw",
   "id": "a316f5ed-a73f-49dd-b622-f310268c6501",
   "metadata": {},
   "source": [
    "def is_prime(num):\n",
    "    if num < 2:\n",
    "        return False\n",
    "    for i in range(2, int(num ** 0.5) + 1):\n",
    "        if num % i == 0:\n",
    "            return False\n",
    "    return True\n",
    "\n",
    "def prime_generator(limit):\n",
    "    num = 2\n",
    "    count = 0\n",
    "    while count < limit:\n",
    "        if is_prime(num):\n",
    "            yield num\n",
    "            count += 1\n",
    "        num += 1\n",
    "\n",
    "# Example usage\n",
    "prime_gen = prime_generator(20)\n",
    "\n",
    "# Print the first 20 prime numbers using the next() method\n",
    "for _ in range(20):\n",
    "    print(next(prime_gen))\n",
    "\n"
   ]
  },
  {
   "cell_type": "raw",
   "id": "02e9beb4-e4ff-4b8f-875d-6fb5bb72cbff",
   "metadata": {},
   "source": [
    "Q6. Write a python program to print the first 10 Fibonacci numbers using a while loop.\n",
    "ans: \n"
   ]
  },
  {
   "cell_type": "code",
   "execution_count": 9,
   "id": "d813fd11-699e-4ad2-af11-a2b4910ac286",
   "metadata": {},
   "outputs": [
    {
     "name": "stdout",
     "output_type": "stream",
     "text": [
      "0\n",
      "1\n",
      "1\n",
      "2\n",
      "3\n",
      "5\n",
      "8\n",
      "13\n",
      "21\n",
      "34\n"
     ]
    }
   ],
   "source": [
    "def fibonacci_sequence(n):\n",
    "    fib_numbers = [0, 1]\n",
    "    while len(fib_numbers) < n:\n",
    "        next_num = fib_numbers[-1] + fib_numbers[-2]\n",
    "        fib_numbers.append(next_num)\n",
    "\n",
    "    return fib_numbers\n",
    "\n",
    "# Example usage\n",
    "fibonacci_numbers = fibonacci_sequence(10)\n",
    "\n",
    "# Print the first 10 Fibonacci numbers\n",
    "for num in fibonacci_numbers:\n",
    "    print(num)\n"
   ]
  },
  {
   "cell_type": "code",
   "execution_count": 8,
   "id": "b51df512-154e-4d8b-ae55-2ef6da9aa9ab",
   "metadata": {},
   "outputs": [
    {
     "data": {
      "text/plain": [
       "0"
      ]
     },
     "execution_count": 8,
     "metadata": {},
     "output_type": "execute_result"
    }
   ],
   "source": [
    "test_fib(4)"
   ]
  },
  {
   "cell_type": "raw",
   "id": "61c41ba7-578e-46ec-aab8-3e7996ac9b0b",
   "metadata": {},
   "source": [
    "Q7. Write a List Comprehension to iterate through the given string: ‘pwskills’.\n",
    "Expected output: ['p', 'w', 's', 'k', 'i', 'l', 'l', 's']\n",
    "ans:\n"
   ]
  },
  {
   "cell_type": "code",
   "execution_count": 16,
   "id": "464483c1-efa1-4c91-87c4-c069f68d0371",
   "metadata": {},
   "outputs": [
    {
     "data": {
      "text/plain": [
       "['p', 'w', 's', 'k', 'i', 'l', 'l', 's']"
      ]
     },
     "execution_count": 16,
     "metadata": {},
     "output_type": "execute_result"
    }
   ],
   "source": [
    "a = \"pwskills\"\n",
    "l1 = []\n",
    "def se():\n",
    "    for i in a:\n",
    "        l1.append(i)\n",
    "se()\n",
    "\n",
    "l1"
   ]
  },
  {
   "cell_type": "raw",
   "id": "7553f1d0-f50c-4648-8305-54b5fe185910",
   "metadata": {},
   "source": [
    "Q8. Write a python program to check whether a given number is Palindrome or not using a while loop.\n",
    "\n",
    "ans:\n",
    "def is_palindrome(number):\n",
    "    original_number = number\n",
    "    reverse_number = 0\n",
    "\n",
    "    while number > 0:\n",
    "        digit = number % 10\n",
    "        reverse_number = reverse_number * 10 + digit\n",
    "        number //= 10\n",
    "\n",
    "    return original_number == reverse_number\n",
    "\n",
    "# Example usage\n",
    "num = int(input(\"Enter a number: \"))\n",
    "\n",
    "if is_palindrome(num):\n",
    "    print(f\"{num} is a Palindrome.\")\n",
    "else:\n",
    "    print(f\"{num} is not a Palindrome.\")\n"
   ]
  },
  {
   "cell_type": "raw",
   "id": "2e96a8f1-2293-4011-b266-99794e4cbb73",
   "metadata": {},
   "source": [
    "Q9. Write a code to print odd numbers from 1 to 100 using list comprehension.\n",
    "ans:\n"
   ]
  },
  {
   "cell_type": "code",
   "execution_count": 24,
   "id": "c774afba-5270-43c4-89c3-274fb26a4e2a",
   "metadata": {},
   "outputs": [],
   "source": [
    "\n",
    "def odd():\n",
    "    \n",
    "    for i in range(100):\n",
    "        if i%2 == 0:\n",
    "            return i\n",
    "        "
   ]
  },
  {
   "cell_type": "code",
   "execution_count": 26,
   "id": "6f781471-b11f-4920-b679-aa9f5043f7ba",
   "metadata": {},
   "outputs": [
    {
     "data": {
      "text/plain": [
       "0"
      ]
     },
     "execution_count": 26,
     "metadata": {},
     "output_type": "execute_result"
    }
   ],
   "source": [
    "odd()"
   ]
  },
  {
   "cell_type": "code",
   "execution_count": null,
   "id": "379f9e46-cf80-45e1-a9b0-c18098fef89c",
   "metadata": {},
   "outputs": [],
   "source": []
  }
 ],
 "metadata": {
  "kernelspec": {
   "display_name": "Python 3 (ipykernel)",
   "language": "python",
   "name": "python3"
  },
  "language_info": {
   "codemirror_mode": {
    "name": "ipython",
    "version": 3
   },
   "file_extension": ".py",
   "mimetype": "text/x-python",
   "name": "python",
   "nbconvert_exporter": "python",
   "pygments_lexer": "ipython3",
   "version": "3.10.8"
  }
 },
 "nbformat": 4,
 "nbformat_minor": 5
}
